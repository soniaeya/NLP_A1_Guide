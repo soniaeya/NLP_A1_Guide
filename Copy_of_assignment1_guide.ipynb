{
  "nbformat": 4,
  "nbformat_minor": 0,
  "metadata": {
    "colab": {
      "provenance": [],
      "gpuType": "A100",
      "include_colab_link": true
    },
    "kernelspec": {
      "name": "python3",
      "display_name": "Python 3"
    },
    "language_info": {
      "name": "python"
    },
    "accelerator": "GPU"
  },
  "cells": [
    {
      "cell_type": "markdown",
      "metadata": {
        "id": "view-in-github",
        "colab_type": "text"
      },
      "source": [
        "<a href=\"https://colab.research.google.com/github/soniaeya/NLP_A1_Guide/blob/another_branch/Copy_of_assignment1_guide.ipynb\" target=\"_parent\"><img src=\"https://colab.research.google.com/assets/colab-badge.svg\" alt=\"Open In Colab\"/></a>"
      ]
    },
    {
      "cell_type": "markdown",
      "metadata": {
        "id": "B7rqxJ_b9-uD"
      },
      "source": [
        "## Assigment 2: Word2vec and CBOW ⚡\n"
      ]
    },
    {
      "cell_type": "code",
      "source": [],
      "metadata": {
        "id": "68lLjeyXEmaF"
      },
      "execution_count": null,
      "outputs": []
    },
    {
      "cell_type": "markdown",
      "metadata": {
        "id": "tWpKZPpdZcV8"
      },
      "source": [
        "In this assignment, we will guide you through the process of implementing Continous Bag Of Words (CBOW) using PyTorch, providing step-by-step instructions, code snippets, and explanations to aid your understanding. By the end of this assignment, you will have a solid grasp of Word2Vec's mechanics and be equipped to apply this knowledge to a wide range of NLP tasks.\n",
        "\n",
        "Let's embark on this journey to unlock the power of word embeddings with Word2Vec and PyTorch!\n",
        "\n",
        "This [guide](https://pytorch.org/tutorials/beginner/basics/intro.html) might come in handy to understand how Pytorch works."
      ]
    },
    {
      "cell_type": "markdown",
      "metadata": {
        "id": "v-kso1_rb2SM"
      },
      "source": [
        "Let's start by installing the needed libraries"
      ]
    },
    {
      "cell_type": "code",
      "execution_count": null,
      "metadata": {
        "colab": {
          "base_uri": "https://localhost:8080/"
        },
        "collapsed": true,
        "id": "aCFYPXdv_qZr",
        "outputId": "2761ec0a-612c-4b2b-8e67-d4e72b9717be"
      },
      "outputs": [
        {
          "output_type": "stream",
          "name": "stdout",
          "text": [
            "Requirement already satisfied: gensim in /usr/local/lib/python3.12/dist-packages (4.3.3)\n",
            "Requirement already satisfied: numpy<2.0,>=1.18.5 in /usr/local/lib/python3.12/dist-packages (from gensim) (1.26.4)\n",
            "Requirement already satisfied: scipy<1.14.0,>=1.7.0 in /usr/local/lib/python3.12/dist-packages (from gensim) (1.13.1)\n",
            "Requirement already satisfied: smart-open>=1.8.1 in /usr/local/lib/python3.12/dist-packages (from gensim) (7.3.1)\n",
            "Requirement already satisfied: wrapt in /usr/local/lib/python3.12/dist-packages (from smart-open>=1.8.1->gensim) (1.17.3)\n"
          ]
        }
      ],
      "source": [
        "!pip install gensim"
      ]
    },
    {
      "cell_type": "code",
      "execution_count": null,
      "metadata": {
        "id": "WaXq72-9S-__"
      },
      "outputs": [],
      "source": [
        "import torch\n",
        "torch.manual_seed(0)\n",
        "\n",
        "device = torch.device(\"cuda\" if torch.cuda.is_available() else \"cpu\")"
      ]
    },
    {
      "cell_type": "markdown",
      "metadata": {
        "id": "AADnCtQddOYv"
      },
      "source": [
        "In this assigment we will use the dataset *text8*. This dataset is composed of textual content extracted from Wikipedia articles which hopefully will lead to good embeddings when input in CBOW."
      ]
    },
    {
      "cell_type": "code",
      "execution_count": null,
      "metadata": {
        "id": "QZyk8pYS9xOJ",
        "colab": {
          "base_uri": "https://localhost:8080/"
        },
        "outputId": "6a1c0372-4ab6-4957-f211-16a58961c7e1"
      },
      "outputs": [
        {
          "output_type": "stream",
          "name": "stdout",
          "text": [
            "[==================================================] 100.0% 31.6/31.6MB downloaded\n"
          ]
        }
      ],
      "source": [
        "import gensim.downloader as api\n",
        "\n",
        "dataset = list(api.load(\"text8\"))[0:100] #We trim the dataset to make training as long. Feel free to change this based on your resources"
      ]
    },
    {
      "cell_type": "markdown",
      "metadata": {
        "id": "2eia3XW39jWP"
      },
      "source": [
        "Let's have a look at a datapoint."
      ]
    },
    {
      "cell_type": "code",
      "execution_count": null,
      "metadata": {
        "id": "_pkSsdyq9YHT",
        "colab": {
          "base_uri": "https://localhost:8080/",
          "height": 174
        },
        "outputId": "871076bc-5e31-46a9-90cc-15810c7632f8"
      },
      "outputs": [
        {
          "output_type": "execute_result",
          "data": {
            "text/plain": [
              "'anarchism originated as a term of abuse first used against early working class radicals including the diggers of the english revolution and the sans culottes of the french revolution whilst the term is still used in a pejorative way to describe any act that used violent means to destroy the organization of society it has also been taken up as a positive label by self defined anarchists the word anarchism is derived from the greek without archons ruler chief king anarchism as a political philosophy is the belief that rulers are unnecessary and should be abolished although there are differing interpretations of what this means anarchism also refers to related social movements that advocate the elimination of authoritarian institutions particularly the state the word anarchy as most anarchists use it does not imply chaos nihilism or anomie but rather a harmonious anti authoritarian society in place of what are regarded as authoritarian political structures and coercive economic institutions anarchists advocate social relations based upon voluntary association of autonomous individuals mutual aid and self governance while anarchism is most easily defined by what it is against anarchists also offer positive visions of what they believe to be a truly free society however ideas about how an anarchist society might work vary considerably especially with respect to economics there is also disagreement about how a free society might be brought about origins and predecessors kropotkin and others argue that before recorded history human society was organized on anarchist principles most anthropologists follow kropotkin and engels in believing that hunter gatherer bands were egalitarian and lacked division of labour accumulated wealth or decreed law and had equal access to resources william godwin anarchists including the the anarchy organisation and rothbard find anarchist attitudes in taoism from ancient china kropotkin found similar ideas in stoic zeno of citium according to kropotkin zeno repudiated the omnipotence of the state its intervention and regimentation and proclaimed the sovereignty of the moral law of the individual the anabaptists of one six th century europe are sometimes considered to be religious forerunners of modern anarchism bertrand russell in his history of western philosophy writes that the anabaptists repudiated all law since they held that the good man will be guided at every moment by the holy spirit from this premise they arrive at communism the diggers or true levellers were an early communistic movement during the time of the english civil war and are considered by some as forerunners of modern anarchism in the modern era the first to use the term to mean something other than chaos was louis armand baron de lahontan in his nouveaux voyages dans l am rique septentrionale one seven zero three where he described the indigenous american society which had no state laws prisons priests or private property as being in anarchy russell means a libertarian and leader in the american indian movement has repeatedly stated that he is an anarchist and so are all his ancestors in one seven nine three in the thick of the french revolution william godwin published an enquiry concerning political justice although godwin did not use the word anarchism many later anarchists have regarded this book as the first major anarchist text and godwin as the founder of philosophical anarchism but at this point no anarchist movement yet existed and the term anarchiste was known mainly as an insult hurled by the bourgeois girondins at more radical elements in the french revolution the first self labelled anarchist pierre joseph proudhon it is commonly held that it wasn t until pierre joseph proudhon published what is property in one eight four zero that the term anarchist was adopted as a self description it is for this reason that some claim proudhon as the founder of modern anarchist theory in what is property proudhon answers with the famous accusation property is theft in this work he opposed the institution of decreed property propri t where owners have complete rights to use and abuse their property as they wish such as exploiting workers for profit in its place proudhon supported what he called possession individuals can have limited rights to use resources capital and goods in accordance with principles of equality and justice proudhon s vision of anarchy which he called mutualism mutuellisme involved an exchange economy where individuals and groups could trade the products of their labor using labor notes which represented the amount of working time involved in production this would ensure that no one would profit from the labor of others workers could freely join together in co operative workshops an interest free bank would be set up to provide everyone with access to the means of production proudhon s ideas were influential within french working class movements and his followers were active in the revolution of one eight four eight in france proudhon s philosophy of property is complex it was developed in a number of works over his lifetime and there are differing interpretations of some of his ideas for more detailed discussion see here max stirner s egoism in his the ego and its own stirner argued that most commonly accepted social institutions including the notion of state property as a right natural rights in general and the very notion of society were mere illusions or ghosts in the mind saying of society that the individuals are its reality he advocated egoism and a form of amoralism in which individuals would unite in associations of egoists only when it was in their self interest to do so for him property simply comes about through might whoever knows how to take to defend the thing to him belongs property and what i have in my power that is my own so long as i assert myself as holder i am the proprietor of the thing stirner never called himself an anarchist he accepted only the label egoist nevertheless his ideas were influential on many individualistically inclined anarchists although interpretations of his thought are diverse american individualist anarchism benjamin tucker in one eight two five josiah warren had participated in a communitarian experiment headed by robert owen called new harmony which failed in a few years amidst much internal conflict warren blamed the community s failure on a lack of individual sovereignty and a lack of private property warren proceeded to organise experimenal anarchist communities which respected what he called the sovereignty of the individual at utopia and modern times in one eight three three warren wrote and published the peaceful revolutionist which some have noted to be the first anarchist periodical ever published benjamin tucker says that warren was the first man to expound and formulate the doctrine now known as anarchism liberty xiv december one nine zero zero one benjamin tucker became interested in anarchism through meeting josiah warren and william b greene he edited and published liberty from august one eight eight one to april one nine zero eight it is widely considered to be the finest individualist anarchist periodical ever issued in the english language tucker s conception of individualist anarchism incorporated the ideas of a variety of theorists greene s ideas on mutual banking warren s ideas on cost as the limit of price a heterodox variety of labour theory of value proudhon s market anarchism max stirner s egoism and herbert spencer s law of equal freedom tucker strongly supported the individual s right to own the product of his or her labour as private property and believed in a market economy for trading this property he argued that in a truly free market system without the state the abundance of competition would eliminate profits and ensure that all workers received the full value of their labor other one nine th century individualists included lysander spooner stephen pearl andrews and victor yarros the first international mikhail bakunin one eight one four one eight seven six in europe harsh reaction followed the revolutions of one eight four eight twenty years later in one eight six four the international workingmen s association sometimes called the first international united some diverse european revolutionary currents including anarchism due to its genuine links to active workers movements the international became signficiant from the start karl marx was a leading figure in the international he was elected to every succeeding general council of the association the first objections to marx came from the mutualists who opposed communism and statism shortly after mikhail bakunin and his followers joined in one eight six eight the first international became polarised into two camps with marx and bakunin as their respective figureheads the clearest difference between the camps was over strategy the anarchists around bakunin favoured in kropotkin s words direct economical struggle against capitalism without interfering in the political parliamentary agitation at that time marx and his followers focused on parliamentary activity bakunin characterised marx s ideas as authoritarian and predicted that if a marxist party gained to power its leaders would end up as bad as the ruling class they had fought against in one eight seven two the conflict climaxed with a final split between the two groups at the hague congress this is often cited as the origin of the conflict between anarchists and marxists from this moment the social democratic and libertarian currents of socialism had distinct organisations including rival internationals anarchist communism peter kropotkin proudhon and bakunin both opposed communism associating it with statism however in the one eight seven zero s many anarchists moved away from bakunin s economic thinking called collectivism and embraced communist concepts communists believed the means of production should be owned collectively and that goods be distributed by need not labor an early anarchist communist was joseph d jacque the first person to describe himself as libertarian unlike proudhon he argued that it is not the product of his or her labor that the worker has a right to but to the satisfaction of his or her needs whatever may be their nature he announced his ideas in his us published journal le libertaire one eight five eight one eight six one peter kropotkin often seen as the most important theorist outlined his economic ideas in the conquest of bread and fields factories and workshops he felt co operation is more beneficial than competition illustrated in nature in mutual aid a factor of evolution one eight nine seven subsequent anarchist communists include emma goldman and alexander berkman many in the anarcho syndicalist movements see below saw anarchist communism as their objective isaac puente s one nine three two comunismo libertario was adopted by the spanish cnt as its manifesto for a post revolutionary society some anarchists disliked merging communism with anarchism several individualist anarchists maintained that abolition of private property was not consistent with liberty for example benjamin tucker whilst professing respect for kropotkin and publishing his work described communist anarchism as pseudo anarchism propaganda of the deed johann most was an outspoken advocate of violence anarchists have often been portrayed as dangerous and violent due mainly to a number of high profile violent acts including riots assassinations insurrections and terrorism by some anarchists some revolutionaries of the late one nine th century encouraged acts of political violence such as bombings and the assassinations of heads of state to further anarchism such actions have sometimes been called propaganda by the deed one of the more outspoken advocates of this strategy was johann most who said the existing system will be quickest and most radically overthrown by the annihilation of its exponents therefore massacres of the enemies of the people must be set in motion most s preferred method of terrorism dynamite earned him the moniker dynamost however there is no consensus on the legitimacy or utility of violence in general mikhail bakunin and errico malatesta for example wrote of violence as a necessary and sometimes desirable force in revolutionary settings but at the same time they denounced acts of individual terrorism malatesta in on violence and bakunin when he refuted nechaev other anarchists sometimes identified as pacifist anarchists advocated complete nonviolence leo tolstoy whose philosophy is often viewed as a form of christian anarchism see below was a notable exponent of nonviolent resistance anarchism in the labour movement the red and black flag coming from the experience of anarchists in the labour movement is particularly associated with anarcho syndicalism anarcho syndicalism was an early two zero th century working class movement seeking to overthrow capitalism and the state to institute a worker controlled society the movement pursued industrial actions such as general strike as a primary strategy many anarcho syndicalists believed in anarchist communism though not all communists believed in syndicalism after the one eight seven one repression french anarchism reemerged influencing the bourses de travails of autonomous workers groups and trade unions from this movement the conf d ration g n rale du travail general confederation of work cgt was formed in one eight nine five as the first major anarcho syndicalist movement emile pataud and emile pouget s writing for the cgt saw libertarian communism developing from a general strike after one nine one four the cgt moved away from anarcho syndicalism due to the appeal of bolshevism french style syndicalism was a significant movement in europe prior to one nine two one and remained a significant movement in spain until the mid one nine four zero s the industrial workers of the world iww founded in one nine zero five in the us espoused unionism and sought a general strike to usher in a stateless society in one nine two three one zero zero zero zero zero members existed with the support of up to three zero zero zero zero zero though not explicitly anarchist they organized by rank and file democracy embodying a spirit of resistance that has inspired many anglophone syndicalists cnt propaganda from april two zero zero four reads don t let the politicians rule our lives you vote and they decide don t allow it unity action self management spanish anarchist trade union federations were formed in the one eight seven zero s one nine zero zero and one nine one zero the most successful was the confederaci n nacional del trabajo national confederation of labour cnt founded in one nine one zero prior to the one nine four zero s the cnt was the major force in spanish working class politics with a membership of one five eight million in one nine three four the cnt played a major role in the spanish civil war see also anarchism in spain syndicalists like ricardo flores mag n were key figures in the mexican revolution latin american anarchism was strongly influenced extending to the zapatista rebellion and the factory occupation movements in argentina in berlin in one nine two two the cnt was joined with the international workers association an anarcho syndicalist successor to the first international contemporary anarcho syndicalism continues as a minor force in many socities much smaller than in the one nine one zero s two zero s and three zero s the largest organised anarchist movement today is in spain in the form of the confederaci n general del trabajo and the cnt the cgt claims a paid up membership of six zero zero zero zero and received over a million votes in spanish syndical elections other active syndicalist movements include the us workers solidarity alliance and the uk solidarity federation the revolutionary industrial unionist industrial workers of the world also exists claiming two zero zero zero paid members contemporary critics of anarcho syndicalism and revolutionary industrial unionism claim that they are workerist and fail to deal with economic life outside work post leftist critics such as bob black claim anarcho syndicalism advocates oppressive social structures such as work and the workplace anarcho syndicalists in general uphold principles of workers solidarity direct action and self management the russian revolution the russian revolution of one nine one seven was a seismic event in the development of anarchism as a movement and as a philosophy anarchists participated alongside the bolsheviks in both february and october revolutions many anarchists initially supporting the bolshevik coup however the bolsheviks soon turned against the anarchists and other left wing opposition a conflict which culminated in the one nine one eight kronstadt rebellion anarchists in central russia were imprisoned or driven underground or joined the victorious bolsheviks in ukraine anarchists fought in the civil war against both whites and bolsheviks within the makhnovshchina peasant army led by nestor makhno expelled american anarchists emma goldman and alexander berkman before leaving russia were amongst those agitating in response to bolshevik policy and the suppression of the kronstadt uprising both wrote classic accounts of their experiences in russia aiming to expose the reality of bolshevik control for them bakunin s predictions about the consequences of marxist rule had proved all too true the victory of the bolsheviks in the october revolution and the resulting russian civil war did serious damage to anarchist movements internationally many workers and activists saw bolshevik success as setting an example communist parties grew at the expense of anarchism and other socialist movements in france and the us for example the major syndicalist movements of the cgt and iww began to realign themselves away from anarchism and towards the communist international in paris the dielo truda group of russian anarchist exiles which included nestor makhno concluded that anarchists needed to develop new forms of organisation in response to the structures of bolshevism their one nine two six manifesto known as the organisational platform of the libertarian communists was supported by some communist anarchists though opposed by many others the platform continues to inspire some contemporary anarchist groups who believe in an anarchist movement organised around its principles of theoretical unity tactical unity collective responsibility and federalism platformist groups today include the workers solidarity movement in ireland the uk s anarchist federation and the late north eastern federation of anarchist communists in the northeastern united states and bordering canada the fight against fascism spain one nine three six members of the cnt construct armoured cars to fight against the fascists in one of the collectivised factories in the one nine two zero s and one nine three zero s the familiar dynamics of anarchism s conflict with the state were transformed by the rise of fascism in europe in many cases european anarchists faced difficult choices should they join in popular fronts with reformist democrats and soviet led communists against a common fascist enemy luigi fabbri an exile from italian fascism was amongst those arguing that fascism was something different fascism is not just another form of government which like all others uses violence it is the most authoritarian and the most violent form of government imaginable it represents the utmost glorification of the theory and practice of the principle of authority in france where the fascists came close to insurrection in the february one nine three four riots anarchists divided over a united front policy in spain the cnt initially refused to join a popular front electoral alliance and abstention by cnt supporters led to a right wing election victory but in one nine three six the cnt changed its policy and anarchist votes helped bring the popular front back to power months later the ruling class responded with an attempted coup and the spanish civil war one nine three six three nine was underway in reponse to the army rebellion an anarchist inspired movement of peasants and workers supported by armed militias took control of the major city of barcelona and of large areas of rural spain where they collectivized the land but even before the eventual fascist victory in one nine three nine the anarchists were losing ground in a bitter struggle with the stalinists the cnt leadership often appeared confused and divided with some members controversially entering the government stalinist led troops suppressed the collectives and persecuted both dissident marxists and anarchists since the late one nine seven zero s anarchists have been involved in fighting the rise of neo fascist groups in germany and the united kingdom some anarchists worked within militant anti fascist groups alongside members of the marxist left they advocated directly combating fascists with physical force rather than relying on the state since the late one nine nine zero s a similar tendency has developed within us anarchism see also anti racist action us anti fascist action uk antifa religious anarchism leo tolstoy one eight two eight one nine one zero most anarchist culture tends to be secular if not outright anti religious however the combination of religious social conscience historical religiousity amongst oppressed social classes and the compatibility of some interpretations of religious traditions with anarchism has resulted in religious anarchism christian anarchists believe that there is no higher authority than god and oppose earthly authority such as government and established churches they believe that jesus teachings were clearly anarchistic but were corrupted when christianity was declared the official religion of rome christian anarchists who follow jesus directive to turn the other cheek are strict pacifists the most famous advocate of christian anarchism was leo tolstoy author of the kingdom of god is within you who called for a society based on compassion nonviolent principles and freedom christian anarchists tend to form experimental communities they also occasionally resist taxation many christian anarchists are vegetarian or vegan christian anarchy can be said to have roots as old as the religion s birth as the early church exhibits many anarchistic tendencies such as communal goods and wealth by aiming to obey utterly certain of the bible s teachings certain anabaptist groups of sixteenth century europe attempted to emulate the early church s social economic organisation and philosophy by regarding it as the only social structure capable of true obediance to jesus teachings and utterly rejected in theory all earthly hierarchies and authority and indeed non anabaptists in general and violence as ungodly such groups for example the hutterites typically went from initially anarchistic beginnings to as their movements stabalised more authoritarian social models chinese anarchism was most influential in the one nine two zero s strands of chinese anarchism included tai xu s buddhist anarchism which was influenced by tolstoy and the well field system neopaganism with its focus on the environment and equality along with its often decentralized nature has lead to a number of neopagan anarchists one of the most prominent is starhawk who writes extensively about both spirituality and activism anarchism and feminism emma goldman early french feminists such as jenny d h ricourt and juliette adam criticised the mysogyny in the anarchism of proudhon during the one eight five zero s anarcha feminism is a kind of radical feminism that espouses the belief that patriarchy is a fundamental problem in society while anarchist feminism has existed for more than a hundred years its explicit formulation as anarcha feminism dates back to the early seven zero s during the second wave feminist movement anarcha feminism views patriarchy as the first manifestation of hierarchy in human history thus the first form of oppression occurred in the dominance of male over female anarcha feminists then conclude that if feminists are against patriarchy they must also be against all forms of hierarchy and therefore must reject the authoritarian nature of the state and capitalism anarcho primitivists see the creation of gender roles and patriarchy a creation of the start of civilization and therefore consider primitivism to also be an anarchist school of thought that addresses feminist concerns eco feminism is often considered a feminist variant of green anarchist feminist thought anarcha feminism is most often associated with early two zero th century authors and theorists such as emma goldman and voltairine de cleyre although even early first wave feminist mary wollstonecraft held proto anarchist views and william godwin is often considered a feminist anarchist precursor it should be noted that goldman and de cleyre though they both opposed the state had opposing philosophies as de cleyre explains miss goldman is a communist i am an individualist she wishes to destroy the right of property i wish to assert it i make my war upon privilege and authority whereby the right of property the true right in that which is proper to the individual is annihilated she believes that co operation would entirely supplant competition i hold that competition in one form or another will always exist and that it is highly desirable it should in the spanish civil war an anarcha feminist group free women organized to defend both anarchist and feminist ideas in the modern day anarchist movement many anarchists male or female consider themselves feminists and anarcha feminist ideas are growing the publishing of quiet rumors an anarcha feminist reader has helped to spread various kinds of anti authoritarian and anarchist feminist ideas to the broader movement wendy mcelroy has popularized an individualist anarchism take on feminism in her books articles and individualist feminist website anarcho capitalism murray rothbard one nine two six one nine nine five anarcho capitalism is a predominantly united states based theoretical tradition that desires a stateless society with the economic system of free market capitalism unlike other branches of anarchism it does not oppose profit or capitalism consequently most anarchists do not recognise anarcho capitalism as a form of anarchism murray rothbard s synthesis of classical liberalism and austrian economics was germinal for the development of contemporary anarcho capitalist theory he defines anarcho capitalism in terms of the non aggression principle based on the concept of natural law competiting theorists use egoism utilitarianism used by david friedman or contractarianism used by jan narveson some minarchists such as ayn rand robert nozick and robert a heinlein have influenced anarcho capitalism some anarcho capitalists along with some right wing libertarian historians such as david hart and ralph raico considered similar philosophies existing prior to rothbard to be anarcho capitalist such as those of gustave de molinari and auberon herbert opponents of anarcho capitalists dispute these claims the place of anarcho capitalism within anarchism and indeed whether it is a form of anarchism at all is highly controversial for more on this debate see anarchism and anarcho capitalism anarchism and the environment since the late one nine seven zero s anarchists in anglophone and european countries have been taking action for the natural environment eco anarchists or green anarchists believe in deep ecology this is a worldview that embraces biodiversity and sustainability eco anarchists often use direct action against what they see as earth destroying institutions of particular importance is the earth first movement that takes action such as tree sitting another important component is ecofeminism which sees the domination of nature as a metaphor for the domination of women green anarchism also involves a critique of industrial capitalism and for some green anarchists civilization itself primitivism is a predominantly western philosophy that advocates a return to a pre industrial and usually pre agricultural society it develops a critique of industrial civilization in this critique technology and development have alienated people from the natural world this philosophy develops themes present in the political action of the luddites and the writings of jean jacques rousseau primitivism developed in the context of the reclaim the streets earth first and the earth liberation front movements john zerzan wrote that civilization not just the state would need to fall for anarchy to be achieved anarcho primitivists point to the anti authoritarian nature of many primitive or hunter gatherer societies throughout the world s history as examples of anarchist societies other branches and offshoots anarchism generates many eclectic and syncretic philosophies and movements since the western social formet in the one nine six zero s and one nine seven zero s a number new of movements and schools have appeared most of these stances are limited to even smaller numbers than the schools and movements listed above hakim bey post left anarchy post left anarchy also called egoist anarchism seeks to distance itself from the traditional left communists liberals social democrats etc and to escape the confines of ideology in general post leftists argue that anarchism has been weakened by its long attachment to contrary leftist movements and single issue causes anti war anti nuclear etc it calls for a synthesis of anarchist thought and a specifically anti authoritarian revolutionary movement outside of the leftist milieu it often focuses on the individual rather than speaking in terms of class or other broad generalizations and shuns organizational tendencies in favor of the complete absence of explicit hierarchy important groups and individuals associated with post left anarchy include crimethinc the magazine anarchy a journal of desire armed and its editor jason mcquinn bob black hakim bey and others for more information see infoshop org s anarchy after leftism section and the post left section on anarchism ws see also post left anarchy post structuralism the term postanarchism was originated by saul newman first receiving popular attention in his book from bakunin to lacan to refer to a theoretical move towards a synthesis of classical anarchist theory and poststructuralist thought subsequent to newman s use of the term however it has taken on a life of its own and a wide range of ideas including autonomism post left anarchy situationism post colonialism and zapatismo by its very nature post anarchism rejects the idea that it should be a coherent set of doctrines and beliefs as such it is difficult if not impossible to state with any degree of certainty who should or shouldn t be grouped under the rubric nonetheless key thinkers associated with post anarchism include saul newman todd may gilles deleuze and f lix guattari external reference postanarchism clearinghouse see also post anarchism insurrectionary anarchism insurrectionary anarchism is a form of revolutionary anarchism critical of formal anarchist labor unions and federations insurrectionary anarchists advocate informal organization including small affinity groups carrying out acts of resistance in various struggles and mass organizations called base structures which can include exploited individuals who are not anarchists proponents include wolfi landstreicher and alfredo m bonanno author of works including armed joy and the anarchist tension this tendency is represented in the us in magazines such as willful disobedience and killing king abacus see also insurrectionary anarchism small a anarchism small a anarchism is a term used in two different but not unconnected contexts dave neal posited the term in opposition to big a anarchism in the article anarchism ideology or methodology while big a anarchism referred to ideological anarchists small a anarchism was applied to their methodological counterparts those who viewed anarchism as a way of acting or a historical tendency against illegitimate authority as an anti ideological position small a anarchism shares some similarities with post left anarchy david graeber and andrej grubacic offer an alternative use of the term applying it to groups and movements organising according to or acting in a manner consistent with anarchist principles of decentralisation voluntary association mutual aid the network model and crucially the rejection of any idea that the end justifies the means let alone that the business of a revolutionary is to seize state power and then begin imposing one s vision at the point of a gun other issues conceptions of an anarchist society many political philosophers justify support of the state as a means of regulating violence so that the destruction caused by human conflict is minimized and fair relationships are established anarchists argue that pursuit of these ends does not justify the establishment of a state many argue that the state is incompatible with those goals and the cause of chaos violence and war anarchists argue that the state helps to create a monopoly on violence and uses violence to advance elite interests much effort has been dedicated to explaining how anarchist societies would handle criminality see also anarchism and society civil rights and cultural sovereignty black anarchism opposes the existence of a state capitalism and subjugation and domination of people of color and favors a non hierarchical organization of society theorists include ashanti alston lorenzo komboa ervin and sam mbah anarchist people of color was created as a forum for non caucasian anarchists to express their thoughts about racial issues within the anarchist movement particularly within the united states national anarchism is a political view which seeks to unite cultural or ethnic preservation with anarchist views its adherents propose that those preventing ethnic groups or races from living in separate autonomous groupings should be resisted anti racist action is not an anarchist group but many anarchists are involved it focuses on publicly confronting racist agitators the zapatista movement of chiapas mexico is a cultural sovereignty group with some anarchist proclivities neocolonialism and globalization nearly all anarchists oppose neocolonialism as an attempt to use economic coercion on a global scale carried out through state institutions such as the world bank world trade organization group of eight and the world economic forum globalization is an ambiguous term that has different meanings to different anarchist factions most anarchists use the term to mean neocolonialism and or cultural imperialism which they may see as related many are active in the anti globalization movement others particularly anarcho capitalists use globalization to mean the worldwide expansion of the division of labor and trade which they see as beneficial so long as governments do not intervene parallel structures many anarchists try to set up alternatives to state supported institutions and outposts such as food not bombs infoshops educational systems such as home schooling neighborhood mediation arbitration groups and so on the idea is to create the structures for a new anti authoritarian society in the shell of the old authoritarian one technology recent technological developments have made the anarchist cause both easier to advance and more conceivable to people many people use the internet to form on line communities intellectual property is undermined and a gift culture supported by sharing music files open source programming and the free software movement these cyber communities include the gnu linux indymedia and wiki some anarchists see information technology as the best weapon to defeat authoritarianism some even think the information age makes eventual anarchy inevitable see also crypto anarchism and cypherpunk pacifism some anarchists consider pacifism opposition to war to be inherent in their philosophy anarcho pacifists take it further and follow leo tolstoy s belief in non violence anarchists see war as an activity in which the state seeks to gain and consolidate power both domestically and in foreign lands and subscribe to randolph bourne s view that war is the health of the state a lot of anarchist activity has been anti war based parliamentarianism in general terms the anarchist ethos opposes voting in elections because voting amounts to condoning the state voluntaryism is an anarchist school of thought which emphasizes tending your own garden and neither ballots nor bullets the anarchist case against voting is explained in the ethics of voting by george h smith also see voting anarchists an oxymoron or what by joe peacott and writings by fred woodworth sectarianism most anarchist schools of thought are to some degree sectarian there is often a difference of opinion within each school about how to react to or interact with other schools some such as panarchists believe that it is possible for a variety of modes of social life to coexist and compete some anarchists view opposing schools as a social impossibility and resist interaction others see opportunities for coalition building or at least temporary alliances for specific purposes see anarchism without adjectives criticisms of anarchism main article criticisms of anarchism violence since anarchism has often been associated with violence and destruction some people have seen it as being too violent on the other hand hand frederick engels criticsed anarchists for not being violent enough a revolution is certainly the most authoritarian thing there is it is the act whereby one part of the population imposes its will upon the other part by means of rifles bayonets and cannon authoritarian means if such there be at all and if the victorious party does not want to have fought in vain it must maintain this rule by means of the terror which its arms inspire in the reactionists would the paris commune have lasted a single day if it had not made use of this authority of the armed people against the bourgeois utopianism anarchism is often criticised as unfeasible or plain utopian even by many who agree that it s a nice idea in principle for example carl landauer in his book european socialism criticizes anarchism as being unrealistically utopian and holds that government is a lesser evil than a society without repressive force he holds that the belief that ill intentions will cease if repressive force disappears is an absurdity however it must be noted that not all anarchists have such a utopian view of anarchism for example some such as benjamin tucker advocate privately funded institutions that defend individual liberty and property however other anarchists such as sir herbert read proudly accept the characterization utopian class character marxists have characterised anarchism as an expression of the class interests of the petite bourgeoisie or perhaps the lumpenproletariat see e g plekhanov for a marxist critique of one eight nine five anarchists have also been characterised as spoilt middle class dilettantes most recently in relation to anti capitalist protesters tacit authoritarianism in recent decades anarchism has been criticised by situationists post anarchists and others of preserving tacitly statist authoritarian or bureaucratic tendencies behind a dogmatic facade hypocrisy some critics point to the sexist and racist views of some prominent anarchists notably proudhon and bakunin as examples of hypocrisy inherent within anarchism while many anarchists however dismiss that the personal prejudices of one nine th century theorists influence the beliefs of present day anarchists others criticise modern anarchism for continuing to be eurocentric and reference the impact of anarchist thinkers like proudhon on fascism through groups like cercle proudhon anarcho capitalist bryan caplan argues that the treatment of fascists and suspected fascist sympathizers by spanish anarchists in the spanish civil war was a form of illegitimate coercion making the proffessed anarchists ultimately just a third faction of totalitarians alongside the communists and fascists he also criticizes the willingness of the cnt to join the statist republican government during the civil war and references stanley g payne s book on the franco regime which claims that the cnt entered negotiations with the fascist government six years after the war cultural phenomena noam chomsky one nine two eight the kind of anarchism that is most easily encountered in popular culture is represented by celebrities who publicly identify themselves as anarchists although some anarchists reject any focus on such famous living individuals as inherently litist the following figures are examples of prominent publicly self avowed anarchists the mit professor of linguistics noam chomsky the science fiction author ursula k le guin the social historian howard zinn entertainer and author hans alfredsson the avant garde artist nicol s rossell in denmark the freetown christiania was created in downtown copenhagen the housing and employment crisis in most of western europe led to the formation of communes and squatter movements like the one still thriving in barcelona in catalonia militant resistance to neo nazi groups in places like germany and the uprisings of autonomous marxism situationist and autonomist groups in france and italy also helped to give popularity to anti authoritarian non capitalist ideas in various musical styles anarchism rose in popularity most famous for the linking of anarchist ideas and music has been punk rock although in the modern age hip hop and folk music are also becoming important mediums for the spreading of the anarchist message in the uk this was associated with the punk rock movement the band crass is celebrated for its anarchist and pacifist ideas the dutch punk band the ex further exemplifies this expression for further details see anarcho punk see also there are many concepts relevant to the topic of anarchism this is a brief summary there is also a more extensive list of anarchist concepts individualist anarchism anarcho communism anarcho syndicalism anarcho capitalism mutualism christian anarchism anarcha feminism green anarchism nihilist anarchism anarcho nationalism black anarchism national anarchism post anarchism post left anarchism libertarian socialism anarchist symbolism list of anarchism links list of anarchists list of anarchist organizations major conflicts within anarchist thought past and present anarchist communities historical events paris commune one eight seven one haymarket riot one eight eight six the makhnovschina one nine one seven one nine two one kronstadt rebellion one nine two one spanish revolution one nine three six see anarchism in spain and spanish revolution may one nine six eight france one nine six eight wto meeting in seattle one nine nine nine books the following is a sample of books that have been referenced in this page a more complete list can be found at the list of anarchist books mikhail bakunin god and the state emma goldman anarchism other essays peter kropotkin mutual aid pierre joseph proudhon what is property rudolf rocker anarcho syndicalism murray rothbard the ethics of liberty max stirner the ego and its own leo tolstoy the kingdom of god is within you anarchism by region culture african anarchism anarchism in spain anarchism in the english tradition chinese anarchism references these notes have no corresponding reference in the article they might be re used against politics appleton boston anarchists yarros victor liberty vii january two one eight nine two noam chomsky on anarchism by noam chomsky external links the overwhelming diversity and number of links relating to anarchism is extensively covered on the links subpage anarchoblogs blogs by anarchists anarchy archives extensively archives information relating to famous anarchists this includes many of their books and other publications hundreds of anarchists are listed with short bios links dedicated pages at the daily bleed s anarchist encyclopedia infoshop org wikipedia page industrial workers of the world anarchism forms of government political ideology entry points political theories social philosophy autism is classified as a neurodevelopmental disorder that manifests itself in markedly abnormal social interaction communication ability patterns of interests and patterns of behavior although the specific etiology of autism is unknown many researchers suspect that autism results from genetically mediated vulnerabilities to environmental triggers and while there is disagreement about the magnitude nature and mechanisms for such environmental factors researchers have found at least seven major genes prevalent among individuals diagnosed as autistic some estimate that autism occurs in as many as one united states child in one six six however the national institute of mental health gives a more conservative estimate of one in one zero zero zero for families that already have one autistic child the odds of a second autistic child may be as high as one in twenty diagnosis is based on a list of psychiatric criteria and a series of standardized clinical tests may also be used autism may not be physiologically obvious a complete physical and neurological evaluation will typically be part of diagnosing autism some now speculate that autism is not a single condition but a group of several distinct conditions that manifest in similar ways by definition autism must manifest delays in social interaction language as used in social communication or symbolic or imaginative play with onset prior to age three years according to the diagnostic and statistical manual of mental disorders the icd one zero also says that symptoms must manifest before the age of three years there have been large increases in the reported incidence of autism for reasons that are heavily debated by researchers in psychology and related fields within the scientific community some children with autism have improved their social and other skills to the point where they can fully participate in mainstream education and social events but there are lingering concerns that an absolute cure from autism is impossible with current technology however many autistic children and adults who are able to communicate at least in writing are opposed to attempts to cure their conditions and see such conditions as part of who they are history dr hans asperger described a form of autism in the one nine four zero s that later became known as asperger s syndrome the word autism was first used in the english language by swiss psychiatrist eugene bleuler in a one nine one two number of the american journal of insanity it comes from the greek word for self however the classification of autism did not occur until the middle of the twentieth century when in one nine four three psychiatrist dr leo kanner of the johns hopkins hospital in baltimore reported on one one child patients with striking behavioral similarities and introduced the label early infantile autism he suggested autism from the greek autos meaning self to describe the fact that the children seemed to lack interest in other people although kanner s first paper on the subject was published in a now defunct journal the nervous child almost every characteristic he originally described is still regarded as typical of the autistic spectrum of disorders at the same time an austrian scientist dr hans asperger described a different form of autism that became known as asperger s syndrome but the widespread recognition of asperger s work was delayed by world war ii in germany and by the fact that his seminal paper wasn t translated into english for almost five zero years the majority of his work wasn t widely read until one nine nine seven thus these two conditions were described and are today listed in the diagnostic and statistical manual of mental disorders dsm iv tr fourth edition text revision one as two of the five pervasive developmental disorders pdd more often referred to today as autism spectrum disorders asd all of these conditions are characterized by varying degrees of difference in communication skills social interactions and restricted repetitive and stereotyped patterns of behavior few clinicians today solely use the dsm iv criteria for determining a diagnosis of autism which are based on the absence or delay of certain developmental milestones many clinicians instead use an alternate means or a combination thereof to more accurately determine a diagnosis terminology when referring to someone diagnosed with autism the term autistic is often used however the term person with autism can be used instead this is referred to as person first terminology the autistic community generally prefers the term autistic for reasons that are fairly controversial this article uses the term autistic see talk page characteristics dr leo kanner introduced the label early infantile autism in one nine four three there is a great diversity in the skills and behaviors of individuals diagnosed as autistic and physicians will often arrive at different conclusions about the appropriate diagnosis much of this is due to the sensory system of an autistic which is quite different from the sensory system of other people since certain stimulations can affect an autistic differently than a non autistic and the degree to which the sensory system is affected varies wildly from one autistic person to another nevertheless professionals within pediatric care and development often look for early indicators of autism in order to initiate treatment as early as possible however some people do not believe in treatment for autism either because they do not believe autism is a disorder or because they believe treatment can do more harm than good social development typically developing infants are social beings early in life they do such things as gaze at people turn toward voices grasp a finger and even smile in contrast most autistic children prefer objects to faces and seem to have tremendous difficulty learning to engage in the give and take of everyday human interaction even in the first few months of life many seem indifferent to other people because they avoid eye contact and do not interact with them as often as non autistic children children with autism often appear to prefer being alone to the company of others and may passively accept such things as hugs and cuddling without reciprocating or resist attention altogether later they seldom seek comfort from others or respond to parents displays of anger or affection in a typical way research has suggested that although autistic children are attached to their parents their expression of this attachment is unusual and difficult to interpret parents who looked forward to the joys of cuddling teaching and playing with their child may feel crushed by this lack of expected attachment behavior children with autism appear to lack theory of mind the ability to see things from another person s perspective a behavior cited as exclusive to human beings above the age of five and possibly other higher primates such as adult gorillas chimpanzees and bonobos typical five year olds can develop insights into other people s different knowledge feelings and intentions interpretations based upon social cues e g gestures facial expressions an individual with autism seems to lack these interpretation skills an inability that leaves them unable to predict or understand other people s actions the social alienation of autistic and asperger s people is so intense from childhood that many of them have imaginary friends as companionship however having an imaginary friend is not necessarily a sign of autism and also occurs in non autistic children although not universal it is common for autistic people to not regulate their behavior this can take the form of crying or verbal outbursts that may seem out of proportion to the situation individuals with autism generally prefer consistent routines and environments they may react negatively to changes in them it is not uncommon for these individuals to exhibit aggression increased levels of self stimulatory behavior self injury or extensive withdrawal in overwhelming situations sensory system a key indicator to clinicians making a proper assessment for autism would include looking for symptoms much like those found in sensory integration dysfunction children will exhibit problems coping with the normal sensory input indicators of this disorder include oversensitivity or underreactivity to touch movement sights or sounds physical clumsiness or carelessness poor body awareness a tendency to be easily distracted impulsive physical or verbal behavior an activity level that is unusually high or low not unwinding or calming oneself difficulty learning new movements difficulty in making transitions from one situation to another social and or emotional problems delays in speech language or motor skills specific learning difficulties delays in academic achievement one common example is an individual with autism hearing a person with autism may have trouble hearing certain people while other people are louder than usual or the person with autism may be unable to filter out sounds in certain situations such as in a large crowd of people see cocktail party effect however this is perhaps the part of the autism that tends to vary the most from person to person so these examples may not apply to every autistic it should be noted that sensory difficulties although reportedly common in autistics are not part of the dsm iv diagnostic criteria for autistic disorder communication difficulties by age three typical children have passed predictable language learning milestones one of the earliest is babbling by the first birthday a typical toddler says words turns when he or she hears his or her name points when he or she wants a toy and when offered something distasteful makes it clear that the answer is no speech development in people with autism takes different paths some remain mute throughout their lives while being fully literate and able to communicate in other ways images sign language and typing are far more natural to them some infants who later show signs of autism coo and babble during the first few months of life but stop soon afterwards others may be delayed developing language as late as the teenage years still inability to speak does not mean that people with autism are unintelligent or unaware once given appropriate accommodations many will happily converse for hours and can often be found in online chat rooms discussion boards or websites and even using communication devices at autism community social events such as autreat those who do speak often use language in unusual ways retaining features of earlier stages of language development for long periods or throughout their lives some speak only single words while others repeat the same phrase over and over some repeat what they hear a condition called echolalia sing song repetitions in particular are a calming joyous activity that many autistic adults engage in many people with autism have a strong tonal sense and can often understand spoken language some children may exhibit only slight delays in language or even seem to have precocious language and unusually large vocabularies but have great difficulty in sustaining typical conversations the give and take of non autistic conversation is hard for them although they often carry on a monologue on a favorite subject giving no one else an opportunity to comment when given the chance to converse with other autistics they comfortably do so in parallel monologue taking turns expressing views and information just as neurotypicals people without autism have trouble understanding autistic body languages vocal tones or phraseology people with autism similarly have trouble with such things in people without autism in particular autistic language abilities tend to be highly literal people without autism often inappropriately attribute hidden meaning to what people with autism say or expect the person with autism to sense such unstated meaning in their own words the body language of people with autism can be difficult for other people to understand facial expressions movements and gestures may be easily understood by some other people with autism but do not match those used by other people also their tone of voice has a much more subtle inflection in reflecting their feelings and the auditory system of a person without autism often cannot sense the fluctuations what seems to non autistic people like a high pitched sing song or flat robot like voice is common in autistic children some autistic children with relatively good language skills speak like little adults rather than communicating at their current age level which is one of the things that can lead to problems since non autistic people are often unfamiliar with the autistic body language and since autistic natural language may not tend towards speech autistic people often struggle to let other people know what they need as anybody might do in such a situation they may scream in frustration or resort to grabbing what they want while waiting for non autistic people to learn to communicate with them people with autism do whatever they can to get through to them communication difficulties may contribute to autistic people becoming socially anxious or depressed repetitive behaviors although people with autism usually appear physically normal and have good muscle control unusual repetitive motions known as self stimulation or stimming may set them apart these behaviors might be extreme and highly apparent or more subtle some children and older individuals spend a lot of time repeatedly flapping their arms or wiggling their toes others suddenly freeze in position as children they might spend hours lining up their cars and trains in a certain way not using them for pretend play if someone accidentally moves one of these toys the child may be tremendously upset autistic children often need and demand absolute consistency in their environment a slight change in any routine in mealtimes dressing taking a bath or going to school at a certain time and by the same route can be extremely disturbing people with autism sometimes have a persistent intense preoccupation for example the child might be obsessed with learning all about vacuum cleaners train schedules or lighthouses often they show great interest in different languages numbers symbols or science topics repetitive behaviors can also extend into the spoken word as well perseveration of a single word or phrase even for a specific number of times can also become a part of the child s daily routine effects in education children with autism are affected with these symptoms every day these unusual characteristics set them apart from the everyday normal student because they have trouble understanding people s thoughts and feelings they have trouble understanding what their teacher may be telling them they do not understand that facial expressions and vocal variations hold meanings and may misinterpret what emotion their instructor is displaying this inability to fully decipher the world around them makes education stressful teachers need to be aware of a student s disorder so that they are able to help the student get the best out of the lessons being taught some students learn better with visual aids as they are better able to understand material presented this way because of this many teachers create visual schedules for their autistic students this allows the student to know what is going on throughout the day so they know what to prepare for and what activity they will be doing next some autistic children have trouble going from one activity to the next so this visual schedule can help to reduce stress research has shown that working in pairs may be beneficial to autistic children autistic students have problems in schools not only with language and communication but with socialization as well they feel self conscious about themselves and many feel that they will always be outcasts by allowing them to work with peers they can make friends which in turn can help them cope with the problems that arise by doing so they can become more integrated into the mainstream environment of the classroom a teacher s aide can also be useful to the student the aide is able to give more elaborate directions that the teacher may not have time to explain to the autistic child the aide can also facilitate the autistic child in such a way as to allow them to stay at a similar level to the rest of the class this allows a partially one on one lesson structure so that the child is still able to stay in a normal classroom but be given the extra help that they need there are many different techniques that teachers can use to assist their students a teacher needs to become familiar with the child s disorder to know what will work best with that particular child every child is going to be different and teachers have to be able to adjust with every one of them students with autism spectrum disorders typically have high levels of anxiety and stress particularly in social environments like school if a student exhibits aggressive or explosive behavior it is important for educational teams to recognize the impact of stress and anxiety preparing students for new situations by writing social stories can lower anxiety teaching social and emotional concepts using systematic teaching approaches such as the incredible five point scale or other cognitive behavioral strategies can increase a student s ability to control excessive behavioral reactions dsm definition autism is defined in section two nine nine zero zero of the diagnostic and statistical manual of mental disorders dsm iv as a total of six or more items from one two and three with at least two from one and one each from two and three qualitative impairment in social interaction as manifested by at least two of the following marked impairment in the use of multiple nonverbal behaviors such as eye to eye gaze facial expression body postures and gestures to regulate social interaction failure to develop peer relationships appropriate to developmental level a lack of spontaneous seeking to share enjoyment interests or achievements with other people e g by a lack of showing bringing or pointing out objects of interest lack of social or emotional'"
            ],
            "application/vnd.google.colaboratory.intrinsic+json": {
              "type": "string"
            }
          },
          "metadata": {},
          "execution_count": 4
        }
      ],
      "source": [
        "(\" \").join(dataset[0])"
      ]
    },
    {
      "cell_type": "markdown",
      "source": [
        "Normally we would need to do some data preprocessing in order to clean our dataset but lucky for you the professor chose a pretty and clean dataset so you don't have to 😉"
      ],
      "metadata": {
        "id": "s6I-utm7mh_N"
      }
    },
    {
      "cell_type": "markdown",
      "metadata": {
        "id": "AUxUbk8nyTmu"
      },
      "source": [
        "Let's start to get more on topic. If you remember, Word2Vec has a specific way of generating each vector.\n",
        "![Captura de pantalla 2024-05-21 161613.jpg](data:image/jpeg;base64,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)\n",
        "\n",
        "The embedding is based on the surrounding words (before and after) taken as context. In the case of CBOW, we input the surrounding words to our neural network and expect that it predicts the middle word. Let's format our dataset to meet the needs of the neural network.\n"
      ]
    },
    {
      "cell_type": "markdown",
      "metadata": {
        "id": "oysoGd4Wxq8I"
      },
      "source": [
        "Since our neural networks can't understand strings we have to turn these strings into integers. In this case, we can use the one hot encodings to represent the words, so we will need the mapping: word -> one-hot-encoding"
      ]
    },
    {
      "cell_type": "code",
      "execution_count": null,
      "metadata": {
        "id": "20IvUrxpwDL-"
      },
      "outputs": [],
      "source": [
        "import pandas as pd\n",
        "import torch\n",
        "import torch.nn.functional as F\n",
        "\n",
        "def create_word_to_index(vocab_list):\n",
        "  \"\"\" Method that creates dictionary that maps words to an index.\n",
        "  Arguments\n",
        "  ---------\n",
        "  vocab_list : list(String)\n",
        "    List of words in the vocabulary\n",
        "  Returns\n",
        "  -------\n",
        "  word_to_index : Dictionary\n",
        "    Dictionary mapping words to index with format {word:index}\n",
        "  \"\"\"\n",
        "  word_to_index = {}\n",
        "\n",
        "  for i,word in enumerate(vocab_list):\n",
        "    word_to_index[word] = i\n",
        "  return word_to_index\n",
        "\n",
        "vocab_list = list(set(word for sentence in dataset for word in sentence))\n",
        "word_to_index = create_word_to_index(vocab_list)"
      ]
    },
    {
      "cell_type": "code",
      "execution_count": null,
      "metadata": {
        "id": "1OkVuGeFQ9Bk",
        "colab": {
          "base_uri": "https://localhost:8080/"
        },
        "outputId": "70c8670b-8936-496e-bce8-0c15d650566a"
      },
      "outputs": [
        {
          "output_type": "execute_result",
          "data": {
            "text/plain": [
              "(tensor([[41454, 33089, 35845, 23167],\n",
              "         [33089, 27050, 23167,   502],\n",
              "         [27050, 35845,   502, 12517],\n",
              "         ...,\n",
              "         [47288, 24657, 20004, 27050],\n",
              "         [24657, 45012, 27050,  7393],\n",
              "         [45012, 20004,  7393, 31452]]),\n",
              " tensor([27050, 35845, 23167,  ..., 45012, 20004, 27050]))"
            ]
          },
          "metadata": {},
          "execution_count": 6
        }
      ],
      "source": [
        "def generate_dataset(dataset, window_size,word_to_index):\n",
        "  \"\"\" Method to generate training dataset for CBOW.\n",
        "  Arguments\n",
        "  ---------\n",
        "  data : String\n",
        "     Training dataset\n",
        "  window_size : int\n",
        "     Size of the context window\n",
        "  word_to_index : Dictionary\n",
        "     Dictionary mapping words to index with format {word:index}\n",
        "  Returns\n",
        "  -------\n",
        "  surroundings : N x W Tensor\n",
        "      Tensor with index of surrounding words, with N being the number of samples and W being the window size\n",
        "  targets : Tensor\n",
        "      Tensor with index of target word\n",
        "  \"\"\"\n",
        "  surroundings= []\n",
        "  targets = []\n",
        "\n",
        "  for data in dataset:\n",
        "    for i in range(window_size,len(data)-window_size): # i = idx of target word\n",
        "    # j iterates through the window range, but skips i, the idx of the target word\n",
        "    # data[j] are the words surrounding the target word\n",
        "    # word_to_index[data[j]] are the indexes of the surrounding words\n",
        "    # surrounding is a dictionary of the surrounding word indexes\n",
        "\n",
        "      surrounding = [word_to_index[data[j]] for j in range (i - window_size, i + window_size + 1) if j != i] #get indexes of surrounding words in a list\n",
        "      surrounding = torch.tensor(surrounding)\n",
        "      target = word_to_index[data[i]] #get index of target word\n",
        "      surroundings.append(surrounding)\n",
        "      targets.append(target)\n",
        "\n",
        "  surroundings = torch.stack(surroundings)\n",
        "  targets = torch.tensor(targets)\n",
        "  return surroundings, targets\n",
        "\n",
        "\n",
        "WINDOW_SIZE = 2\n",
        "surroundings, targets = generate_dataset(dataset,WINDOW_SIZE,word_to_index)\n",
        "generate_dataset(dataset,WINDOW_SIZE,word_to_index)\n",
        "\n",
        "\n"
      ]
    },
    {
      "cell_type": "markdown",
      "metadata": {
        "id": "7OYFIK0g0YsI"
      },
      "source": [
        "With our dataset ready we can finally create our Neural Network. The idea is to replicate what Mikolov did in 2013 (see slides of Word2Vec)."
      ]
    },
    {
      "cell_type": "code",
      "execution_count": null,
      "metadata": {
        "id": "gKDcC75jzaXz"
      },
      "outputs": [],
      "source": [
        "import torch.nn as nn\n",
        "class CBOW(nn.Module):\n",
        "  def __init__(self, vocab_size, embed_dim=300):\n",
        "    \"\"\" Class to define the CBOW model\n",
        "    Attributes\n",
        "    ---------\n",
        "    device : device\n",
        "      Device where the model will be trained (gpu preferably)\n",
        "    vocab_size : int\n",
        "      Size of the vocabulary\n",
        "    embed_dim : int\n",
        "      Size of the embedding layer\n",
        "    hidden_dim : int\n",
        "      Size of the hidden layer\n",
        "\n",
        "    \"\"\"\n",
        "    super().__init__()\n",
        "\n",
        "    self.device = device\n",
        "    self.vocab_size = vocab_size # input size\n",
        "    self.embed_dim = embed_dim\n",
        "    self.hidden_dim = 128 # Define hidden_dim before using it\n",
        "\n",
        "no embedding layer\n",
        "\n",
        "    self.embedding = nn.Embedding(num_embeddings=self.vocab_size, embedding_dim=self.embed_dim)\n",
        "    self.linear_in = nn.Linear(self.embed_dim, self.hidden_dim, bias=False)# Linear layer that encodes one-hot-encoding to embedding dimension. Remember Mikolov's implementation had NO BIAS\n",
        "    self.linear_out = nn.Linear(self.hidden_dim, self.vocab_size, bias=False)# Linear layer that decodes from embedding dimension to vocab dimension. Remember Mikolov's implementation had NO BIAS\n",
        "\n",
        "  def forward(self, x):\n",
        "    emb = self.embedding(x) #pass input (indices of surrounding words) through embedding layer\n",
        "    average = torch.mean(emb, dim = 1) #average embeddings\n",
        "    out = self.linear_in(average)  #pass through linear layer\n",
        "    out = self.linear_out(out) #pass through output linear layer\n",
        "\n",
        "    return out"
      ]
    },
    {
      "cell_type": "markdown",
      "source": [
        "We will need an important function that creates one hot encoding vectors based on our surrounding word's indexes"
      ],
      "metadata": {
        "id": "Hp7Z3KGw_vIQ"
      }
    },
    {
      "cell_type": "code",
      "source": [
        "def one_hot_from_surroundings(surroundings,window_size, vocab_size):\n",
        "  \"\"\" Method to create one hot encodings for the surrounding words.\n",
        "  Arguments\n",
        "  ---------\n",
        "  surroundings : N x (Wx2) Tensor\n",
        "     Tensor with index of surrounding words, with N being the number of samples and W being the window size\n",
        "  vocab_size : int\n",
        "     Size of the vocabulary\n",
        "  Returns\n",
        "  -------\n",
        "  one_hot_surroundings : N x (Wx2) x V Tensor\n",
        "      Tensor with one hot encodings of surrounding words, with N being the number of samples, W being the window size and V being the vocabulary size\n",
        "  \"\"\"\n",
        "  one_hot_surr = torch.nn.functional.one_hot(surroundings, num_classes=vocab_size)\n",
        "  return one_hot_surr\n"
      ],
      "metadata": {
        "id": "AqaffIc_9l5o"
      },
      "execution_count": null,
      "outputs": []
    },
    {
      "cell_type": "code",
      "source": [
        "#Check if your previous function is correct\n",
        "index= [[2,3,7,8],[0,1,9,5]]\n",
        "index_tensor = torch.tensor(index).to(device)\n",
        "answer = torch.tensor([[[0., 0., 1., 0., 0., 0., 0., 0., 0., 0.],\n",
        "         [0., 0., 0., 1., 0., 0., 0., 0., 0., 0.],\n",
        "         [0., 0., 0., 0., 0., 0., 0., 1., 0., 0.],\n",
        "         [0., 0., 0., 0., 0., 0., 0., 0., 1., 0.]],\n",
        "\n",
        "        [[1., 0., 0., 0., 0., 0., 0., 0., 0., 0.],\n",
        "         [0., 1., 0., 0., 0., 0., 0., 0., 0., 0.],\n",
        "         [0., 0., 0., 0., 0., 0., 0., 0., 0., 1.],\n",
        "         [0., 0., 0., 0., 0., 1., 0., 0., 0., 0.]]], device=device)\n",
        "\n",
        "prediction = one_hot_from_surroundings(index_tensor,2,10)\n",
        "assert prediction.shape == torch.Size([2, 4, 10]), \"Make sure the result has shape NUM_EXAMPLES X WINDOW_SIZE*2 X VOCAB_SIZE\"\n",
        "assert torch.equal(prediction,answer), \"Wrong implementation of one_hot_from_surroundings method\"\n",
        "print(\"Good Job!\")"
      ],
      "metadata": {
        "id": "ON_SHTKf-bY-",
        "colab": {
          "base_uri": "https://localhost:8080/"
        },
        "outputId": "4c1b9fdc-62e2-43bc-c260-29028dcee6f6"
      },
      "execution_count": null,
      "outputs": [
        {
          "output_type": "stream",
          "name": "stdout",
          "text": [
            "Good Job!\n"
          ]
        }
      ]
    },
    {
      "cell_type": "markdown",
      "source": [
        "Now we are finally ready to train"
      ],
      "metadata": {
        "id": "j9swEtZqAtVw"
      }
    },
    {
      "cell_type": "code",
      "execution_count": null,
      "metadata": {
        "id": "7F9PVmiIgsXW"
      },
      "outputs": [],
      "source": [
        "from torch.utils.data import DataLoader\n",
        "from torch.utils.data import Dataset, random_split\n",
        "#creation of dataloader for training\n",
        "full_dataset = list(zip(surroundings,targets))\n",
        "train_size = int(0.8 * len(full_dataset))\n",
        "val_size = len(full_dataset) - train_size\n",
        "train_dataset, val_dataset = random_split(full_dataset, [train_size, val_size])\n",
        "train_dataloader=DataLoader(train_dataset,batch_size=128,shuffle=True) #Here please change batch size depending of your GPU capacities (if GPU runs out of memory lower batch_size)\n",
        "val_dataloader=DataLoader(val_dataset,batch_size=128,shuffle=False) #Here please change batch size depending of your GPU capacities (if GPU runs out of memory lower batch_size)"
      ]
    },
    {
      "cell_type": "code",
      "execution_count": null,
      "metadata": {
        "id": "MyMPIPX-51l8",
        "colab": {
          "base_uri": "https://localhost:8080/"
        },
        "outputId": "797965cd-d530-4d01-e61d-bd828477f6af"
      },
      "outputs": [
        {
          "output_type": "stream",
          "name": "stderr",
          "text": [
            "Training: 100%|██████████| 6248/6248 [00:16<00:00, 380.78it/s]\n",
            "Validation: 100%|██████████| 1562/1562 [00:01<00:00, 1126.95it/s]\n"
          ]
        },
        {
          "output_type": "stream",
          "name": "stdout",
          "text": [
            "Epoch 1, Train Loss: 7.1387, Val Loss: 6.7462\n"
          ]
        },
        {
          "output_type": "stream",
          "name": "stderr",
          "text": [
            "Training: 100%|██████████| 6248/6248 [00:16<00:00, 389.52it/s]\n",
            "Validation: 100%|██████████| 1562/1562 [00:01<00:00, 1123.90it/s]\n"
          ]
        },
        {
          "output_type": "stream",
          "name": "stdout",
          "text": [
            "Epoch 2, Train Loss: 6.1931, Val Loss: 6.5777\n"
          ]
        },
        {
          "output_type": "stream",
          "name": "stderr",
          "text": [
            "Training: 100%|██████████| 6248/6248 [00:16<00:00, 389.23it/s]\n",
            "Validation: 100%|██████████| 1562/1562 [00:01<00:00, 1128.10it/s]\n"
          ]
        },
        {
          "output_type": "stream",
          "name": "stdout",
          "text": [
            "Epoch 3, Train Loss: 5.6145, Val Loss: 6.5965\n"
          ]
        },
        {
          "output_type": "stream",
          "name": "stderr",
          "text": [
            "Training: 100%|██████████| 6248/6248 [00:16<00:00, 389.34it/s]\n",
            "Validation: 100%|██████████| 1562/1562 [00:01<00:00, 1126.84it/s]\n"
          ]
        },
        {
          "output_type": "stream",
          "name": "stdout",
          "text": [
            "Epoch 4, Train Loss: 5.1497, Val Loss: 6.6695\n"
          ]
        },
        {
          "output_type": "stream",
          "name": "stderr",
          "text": [
            "Training: 100%|██████████| 6248/6248 [00:16<00:00, 385.34it/s]\n",
            "Validation: 100%|██████████| 1562/1562 [00:01<00:00, 1125.18it/s]"
          ]
        },
        {
          "output_type": "stream",
          "name": "stdout",
          "text": [
            "Epoch 5, Train Loss: 4.7768, Val Loss: 6.7859\n"
          ]
        },
        {
          "output_type": "stream",
          "name": "stderr",
          "text": [
            "\n"
          ]
        }
      ],
      "source": [
        "from tqdm import tqdm\n",
        "device = torch.device(\"cuda\" if torch.cuda.is_available() else \"cpu\") #CAUTION: RUN THIS CODE WITH GPU, CPU WILL TAKE TOO LONG\n",
        "EMB_DIM = 300\n",
        "CBOW_MODEL = CBOW(len(word_to_index), embed_dim= EMB_DIM).to(device)\n",
        "loss_function = nn.CrossEntropyLoss()\n",
        "optimizer = torch.optim.Adam(CBOW_MODEL.parameters(), lr=0.001)\n",
        "EPOCHS = 5\n",
        "\n",
        "#BE PATIENT: This code can take up to 1 hours for a batch size of 64 and 5 epochs\n",
        "\n",
        "def train_model(model, train_loader, val_loader, epochs=5, lr=1e-3):\n",
        "  total_loss = 0\n",
        "  i=0\n",
        "  for surr, tar in tqdm(train_dataloader,\"Training\"):\n",
        "      surr, tar = surr.to(device), tar.to(device)\n",
        "      one_hot_surr = one_hot_from_surroundings(surr,WINDOW_SIZE, len(word_to_index))\n",
        "\n",
        "      optimizer.zero_grad()\n",
        "      log_probs = model(surr) # Pass indices through model\n",
        "\n",
        "      loss= loss_function(log_probs,tar)\n",
        "      total_loss += loss.item()\n",
        "\n",
        "      loss.backward()\n",
        "      optimizer.step()\n",
        "\n",
        "  return total_loss/len(train_dataloader)\n",
        "\n",
        "def evaluate_model(model, val_loader):\n",
        "  model.eval()\n",
        "  total_loss = 0\n",
        "  with torch.no_grad():\n",
        "      for surr, tar in tqdm(val_loader, \"Validation\"):\n",
        "          surr, tar = surr.to(device), tar.to(device)\n",
        "          one_hot_surr = one_hot_from_surroundings(surr,WINDOW_SIZE, len(word_to_index)) # Remove this line\n",
        "\n",
        "          log_probs = model(surr) # Pass indices through model\n",
        "\n",
        "          loss= loss_function(log_probs,tar)\n",
        "          total_loss += loss.item()\n",
        "  return total_loss/len(val_loader)\n",
        "\n",
        "\n",
        "for epoch in range(EPOCHS):\n",
        "  train_loss = train_model(CBOW_MODEL, train_dataloader, val_dataloader, epochs=1, lr=0.001)\n",
        "  val_loss = evaluate_model(CBOW_MODEL, val_dataloader)\n",
        "  print(f\"Epoch {epoch+1}, Train Loss: {train_loss:.4f}, Val Loss: {val_loss:.4f}\")"
      ]
    },
    {
      "cell_type": "markdown",
      "metadata": {
        "id": "tMjs6zu63bnh"
      },
      "source": [
        "## Let's test it!"
      ]
    },
    {
      "cell_type": "markdown",
      "metadata": {
        "id": "7rarP3Yw3eCW"
      },
      "source": [
        "Now that we hopefully have good embeddings we can put them to the test. Let's start by creating some useful functions."
      ]
    },
    {
      "cell_type": "code",
      "execution_count": null,
      "metadata": {
        "collapsed": true,
        "id": "xJndx_85UJeY",
        "colab": {
          "base_uri": "https://localhost:8080/"
        },
        "outputId": "5de7d855-9bad-488c-9160-daa9fc0e6594"
      },
      "outputs": [
        {
          "output_type": "stream",
          "name": "stdout",
          "text": [
            "Embedding of word 'study' tensor([ 1.2198,  0.5040,  0.4618,  0.1763,  0.0366,  0.3705,  1.6885, -0.4010,\n",
            "         1.5586,  0.2176, -1.1792,  1.1544, -1.2883, -1.9057, -0.3848,  1.1637,\n",
            "         0.1893, -1.7233,  1.1808, -0.3022,  0.3948, -0.6368,  0.1033,  3.3697,\n",
            "         0.1565, -0.7508,  1.3313, -0.7198,  0.5579, -0.5649,  0.3271,  0.3392,\n",
            "        -0.7882, -0.3202,  0.0523, -0.7052,  1.4903, -0.8389,  0.0211,  0.8872,\n",
            "        -1.8800,  0.6253, -2.1052, -0.4364,  0.7951, -0.3984,  1.8010, -1.1952,\n",
            "         0.0515, -0.5506,  0.1417, -0.3053,  2.0082, -0.6340,  0.2840, -1.2457,\n",
            "         0.4571,  1.0861,  1.0957,  0.2415, -0.3621,  0.5804, -0.0790,  0.3120,\n",
            "        -0.0474, -1.0090, -0.9255, -0.5397, -3.3120, -0.4755, -0.9226, -0.7580,\n",
            "        -0.1465, -0.8680,  1.2365, -0.0251, -0.8326, -0.2885,  0.2815, -1.0124,\n",
            "         1.1885, -0.5681, -1.3495,  0.4356,  0.4846,  0.9063, -0.4761,  1.7476,\n",
            "         0.2372,  0.3644,  0.4671, -0.9427, -0.5927, -0.0375, -0.3613,  3.1187,\n",
            "        -1.1972, -0.6515, -1.8843,  0.0084, -1.1723,  1.2735,  2.1073,  1.1154,\n",
            "         1.8771,  0.0117, -1.1044, -0.1312,  1.3419,  0.4765,  0.7006, -0.1236,\n",
            "        -2.1513, -2.0491,  0.7405,  0.1860,  0.8492, -1.4234,  1.4087, -0.2466,\n",
            "        -0.5067,  0.9292, -0.7068,  0.7190, -0.0214, -0.1741, -1.1282,  0.6983,\n",
            "        -0.9500,  0.6432,  0.3136,  0.5607,  0.2139,  0.3775,  0.5845,  0.0386,\n",
            "        -0.8201,  0.3948,  0.7145,  0.4101, -1.1685,  0.0814, -0.9832, -1.3641,\n",
            "        -1.6103, -1.4656, -2.7362, -0.1507, -2.0960,  0.5839, -2.0855, -1.3635,\n",
            "         1.5779,  0.7664,  0.3953,  0.1907, -1.5572, -0.2415, -0.3481, -0.4973,\n",
            "         0.1619,  1.4065, -0.1718,  0.9128,  1.3568,  1.0250,  0.4447,  0.8076,\n",
            "         0.5821,  0.6867, -0.5180, -0.2183, -0.2766, -1.4377, -0.9141, -2.1007,\n",
            "         0.6653,  0.3002,  0.3821,  1.0431,  0.8948, -1.0831, -0.2972, -0.7724,\n",
            "        -0.4951, -1.3754, -1.1733,  1.0201, -1.0892, -0.6409, -0.7598, -0.6883,\n",
            "         2.3842,  0.1694,  0.7779,  0.2377, -0.2215,  0.1809,  1.1275, -1.5831,\n",
            "         2.5036,  1.3916,  1.3383, -1.8929,  1.0792, -1.7443, -0.6678, -0.6636,\n",
            "        -1.1741, -0.8850, -1.3454, -1.8558,  1.3307,  0.4107,  0.4945, -0.4292,\n",
            "         0.2369, -2.4022,  2.7857, -1.5925, -0.8142,  1.4858,  0.9187,  1.0942,\n",
            "        -0.4952, -0.4189,  0.0091, -0.6963, -0.2813,  0.5802, -0.7924, -0.7196,\n",
            "        -0.8813,  0.3115, -0.3775, -1.4199, -0.0481,  0.5981, -0.1912,  1.6957,\n",
            "         1.0960, -0.6987, -0.8836,  2.1770, -0.4408, -0.7450, -0.2121,  0.7825,\n",
            "         0.7256, -0.2356, -0.0819, -2.3074, -0.2676, -1.2920,  0.5480, -1.3891,\n",
            "        -0.1901, -1.2902,  0.0218,  1.5334, -1.3704, -1.2590,  1.7170, -0.0080,\n",
            "        -0.6550, -1.6152,  0.2558,  1.2683, -0.6167,  0.8488,  0.2307, -0.5239,\n",
            "        -1.7757,  0.8913, -0.1804,  0.1802, -0.5382, -1.4184,  0.2365, -1.1812,\n",
            "         0.4340, -1.1656, -0.4505,  0.3641,  0.8525,  0.2886,  1.7026,  2.4884,\n",
            "         1.3493,  0.0523, -0.0087, -1.7633,  0.7339, -0.1290, -1.7137,  1.4480,\n",
            "        -0.4576, -1.2419, -0.2194, -0.6771], device='cuda:0',\n",
            "       grad_fn=<SliceBackward0>)\n"
          ]
        }
      ],
      "source": [
        "def create_word_to_embedding (vocab_list, model,word_to_index):\n",
        "  \"\"\" Method to get create dictionary that maps a word to it's embedding vector.\n",
        "  Arguments\n",
        "  ---------\n",
        "  word : String\n",
        "     Word given\n",
        "  model : NN.module\n",
        "     CBOW model\n",
        "  word_to_index : Dictionary\n",
        "     Dictionary mapping words to index with format {word:index}\n",
        "  Returns\n",
        "  -------\n",
        "  word_embedding : Tensor\n",
        "      Embedding vector for the given word\n",
        "    \"\"\"\n",
        "  embedding_weights = model.embedding.weight # Get the weights of the embedding layer (remove .detach() and .cpu())\n",
        "  word_to_embedding = {}\n",
        "  for word in vocab_list:\n",
        "    index=  word_to_index[word] # Get word index\n",
        "    word_embedding = embedding_weights[index, :] # Extract the embedding vector for the given word index. This is done by getting the row of the index specified\n",
        "    word_to_embedding[word] = word_embedding\n",
        "\n",
        "  return word_to_embedding\n",
        "\n",
        "word_to_embedding = create_word_to_embedding(vocab_list,CBOW_MODEL,word_to_index)\n",
        "if 'study' in word_to_embedding:\n",
        "  print(\"Embedding of word 'study'\", word_to_embedding['study'])\n",
        "else:\n",
        "  print(\"Word 'study' not found in the vocabulary.\")"
      ]
    },
    {
      "cell_type": "markdown",
      "source": [
        "We will test how good our word2vec model is by testing the embeddings on the downstream task of sentiment analysis of movies 🎥\n",
        "\n",
        "Let's first import and download this dataset.\n"
      ],
      "metadata": {
        "id": "_d_EwIyfptj5"
      }
    },
    {
      "cell_type": "code",
      "source": [
        "from keras.datasets import imdb\n",
        "\n",
        "def decode_review(word_index, review):\n",
        "  decoded_review = \" \".join([reverse_word_index.get(i - 3, \"\") for i in review])\n",
        "  return decoded_review\n",
        "\n",
        "(train_data, train_labels), (test_data, test_labels)= imdb.load_data(num_words=10000)\n",
        "word_index = imdb.get_word_index()\n",
        "reverse_word_index = {value: key for key, value in word_index.items()}\n",
        "\n",
        "# We will trim the dataset to not make training to long, feel free to change this based on your resources\n",
        "train_data = train_data[:10000]\n",
        "train_labels = train_labels[:10000]\n",
        "test_data = test_data[:2000]\n",
        "test_labels = test_labels[:2000]\n",
        "\n",
        "#Decode data\n",
        "word_index = imdb.get_word_index()\n",
        "reverse_word_index = {value: key for key, value in word_index.items()}\n",
        "train_data = [decode_review(reverse_word_index,x) for x in train_data]\n",
        "test_data = [decode_review(reverse_word_index,x) for x in test_data]"
      ],
      "metadata": {
        "id": "mPK_JPPYVY4M",
        "colab": {
          "base_uri": "https://localhost:8080/"
        },
        "outputId": "4d6e185e-73da-4760-abc3-ad9e67f2730f"
      },
      "execution_count": null,
      "outputs": [
        {
          "output_type": "stream",
          "name": "stdout",
          "text": [
            "Downloading data from https://storage.googleapis.com/tensorflow/tf-keras-datasets/imdb.npz\n",
            "\u001b[1m17464789/17464789\u001b[0m \u001b[32m━━━━━━━━━━━━━━━━━━━━\u001b[0m\u001b[37m\u001b[0m \u001b[1m0s\u001b[0m 0us/step\n",
            "Downloading data from https://storage.googleapis.com/tensorflow/tf-keras-datasets/imdb_word_index.json\n",
            "\u001b[1m1641221/1641221\u001b[0m \u001b[32m━━━━━━━━━━━━━━━━━━━━\u001b[0m\u001b[37m\u001b[0m \u001b[1m0s\u001b[0m 0us/step\n"
          ]
        }
      ]
    },
    {
      "cell_type": "markdown",
      "source": [
        "Now we can create a simple Sentiment classifier that will use our embeddings from our CBOW model. The model input will be an average of the word embeddings of the review and the output will be a binary: positive🙂 or negative😞."
      ],
      "metadata": {
        "id": "ubc_mCGE62JB"
      }
    },
    {
      "cell_type": "markdown",
      "source": [
        "Let's start by creating our Dataloaders"
      ],
      "metadata": {
        "id": "207hqm-ZC95U"
      }
    },
    {
      "cell_type": "code",
      "source": [
        "from torch.utils.data import Dataset, DataLoader\n",
        "\n",
        "class ReviewDataset(Dataset):\n",
        "    def __init__(self, reviews, labels):\n",
        "        self.reviews = reviews\n",
        "        self.labels = labels\n",
        "\n",
        "    def __len__(self):\n",
        "        return len(self.reviews)\n",
        "\n",
        "    def __getitem__(self, idx):\n",
        "        return self.reviews[idx], self.labels[idx]\n",
        "\n",
        "\n",
        "def get_review_embedding(review):\n",
        "  \"\"\" Method to get the embedding vector for a given review.\n",
        "  Arguments\n",
        "  ---------\n",
        "  review : String\n",
        "     Review given\n",
        "  model : NN.module\n",
        "     CBOW model\n",
        "  word_to_index : Dictionary\n",
        "     Dictionary mapping words to index with format {word:index}\n",
        "  Returns\n",
        "  -------\n",
        "  review_embedding : Tensor\n",
        "      Embedding vector for the given review\n",
        "  \"\"\"\n",
        "  # TODO write a function that gets sentence embedding by averaging the embeddings of the words in the review (only take into account words in vocab)\n",
        "  words = review.split()\n",
        "  sum_embeddings = torch.zeros(list(word_to_embedding.values())[0].shape, device=device, requires_grad=True) # Explicitly set requires_grad=True\n",
        "  count = 0\n",
        "  for word in words:\n",
        "    if word in word_to_embedding:\n",
        "      # Ensure embedding is on the correct device and add to sum_embeddings\n",
        "      # Use .clone() to avoid modifying the original tensor in word_to_embedding\n",
        "      sum_embeddings = sum_embeddings + word_to_embedding[word].to(device)\n",
        "      count += 1\n",
        "  if count > 0:\n",
        "    review_embedding = sum_embeddings / count\n",
        "  else:\n",
        "    # Return a zero vector with requires_grad=True\n",
        "    review_embedding = torch.zeros(list(word_to_embedding.values())[0].shape, device=device, requires_grad=True)\n",
        "\n",
        "  return review_embedding\n",
        "\n",
        "\n",
        "def create_dataloader_imdb(train_data, train_labels, test_data, test_labels, batch_size= 64):\n",
        "  \"\"\" Method to create dataloaders for the IMDB dataset\n",
        "  Arguments\n",
        "  ---------\n",
        "  train_data : List\n",
        "     List of reviews for training\n",
        "     train_labels : List\n",
        "     List of labels for training\n",
        "  test_data : List\n",
        "     List of reviews for testing\n",
        "  test_labels : List\n",
        "     List of labels for testing\n",
        "  Returns\n",
        "  -------\n",
        "\n",
        "  \"\"\"\n",
        "  train_dataset = ReviewDataset(train_data, train_labels)\n",
        "  test_dataset = ReviewDataset(test_data, test_labels)\n",
        "\n",
        "\n",
        "  train_dataloader = DataLoader(train_dataset,batch_size=batch_size,shuffle=True)\n",
        "  test_dataloader = DataLoader(test_dataset,batch_size=batch_size,shuffle=False)\n",
        "  return train_dataloader, test_dataloader\n",
        "\n",
        "\n",
        "train_dataloader_imd , test_dataloader_imd = create_dataloader_imdb(train_data, train_labels, test_data, test_labels)"
      ],
      "metadata": {
        "id": "UPj6em3dDCXU",
        "collapsed": true
      },
      "execution_count": null,
      "outputs": []
    },
    {
      "cell_type": "markdown",
      "source": [
        "Let's create a very simple MLP for this classification problem"
      ],
      "metadata": {
        "id": "aYly1Y6YCGJl"
      }
    },
    {
      "cell_type": "code",
      "execution_count": null,
      "metadata": {
        "id": "hrzjadMnGa8C"
      },
      "outputs": [],
      "source": [
        "class SentimentClassifier(nn.Module):\n",
        "    def __init__(self, embedding_dim, hidden_dim=128, num_classes=2):\n",
        "        super().__init__()\n",
        "        self.fc1 = nn.Linear(embedding_dim, hidden_dim)\n",
        "        self.relu = nn.ReLU()\n",
        "        self.fc2 = nn.Linear(hidden_dim, num_classes)\n",
        "        self.dropout = nn.Dropout(0.3)\n",
        "\n",
        "    def forward(self, x):\n",
        "      # TODO complete forward\n",
        "      x = self.fc1(x)\n",
        "      x = self.relu(x)\n",
        "      x = self.dropout(x)\n",
        "      x = self.fc2(x)\n",
        "      return x\n"
      ]
    },
    {
      "cell_type": "markdown",
      "source": [
        "Now the fun part, time to train"
      ],
      "metadata": {
        "id": "49_1rzXRCViG"
      }
    },
    {
      "cell_type": "code",
      "source": [
        "from tqdm import tqdm\n",
        "device = torch.device(\"cuda\" if torch.cuda.is_available() else \"cpu\") #CAUTION: RUN THIS CODE WITH GPU, CPU WILL TAKE TOO LONG\n",
        "SENT_MODEL = SentimentClassifier(embedding_dim=EMB_DIM).to(device)\n",
        "loss_function = nn.CrossEntropyLoss()\n",
        "optimizer = torch.optim.Adam(SENT_MODEL.parameters(), lr=0.001)\n",
        "EPOCHS = 5\n",
        "\n",
        "#BE PATIENT: This code can take up to 1 hours for a batch size of 64 and 5 epochs\n",
        "\n",
        "def train_model(model, train_loader):\n",
        "  model.train()\n",
        "  total_loss = 0\n",
        "  for reviews, y in tqdm(train_loader,\"Training\"):\n",
        "    # Calculate review embeddings dynamically with gradient tracking\n",
        "    X = torch.stack([get_review_embedding(review) for review in reviews]).to(device)\n",
        "    y = y.to(device) # Move labels to device\n",
        "\n",
        "    optimizer.zero_grad() # Zero the gradients\n",
        "    out = model(X) # Forward pass\n",
        "    loss = loss_function(out, y) # Calculate the loss\n",
        "    loss.backward() # Backpropagate the error\n",
        "    optimizer.step() # Update the weights\n",
        "\n",
        "    total_loss += loss.item()\n",
        "\n",
        "  return total_loss/len(train_loader)\n",
        "\n",
        "def evaluate_model(model, val_loader):\n",
        "  model.eval()\n",
        "  correct, total = 0, 0\n",
        "  all_predictions = []\n",
        "  all_labels = []\n",
        "  with torch.no_grad():\n",
        "    for reviews, y in tqdm(val_loader,\"Validation\"):\n",
        "        # Calculate review embeddings dynamically (without gradient tracking for evaluation)\n",
        "        X = torch.stack([get_review_embedding(review) for review in reviews]).to(device)\n",
        "        y = y.to(device) # Move labels to device\n",
        "\n",
        "        out = model(X) # Forward pass\n",
        "        preds = torch.softmax(out, dim=1)  # Pass through softmax layer\n",
        "        preds = torch.argmax(preds, dim=1)  #Get prediction by doing argmax\n",
        "        correct += (preds == y).sum().item() # Check how many are correct\n",
        "        all_predictions.extend(preds.cpu().numpy()) # Save predictions\n",
        "        all_labels.extend(y.cpu().numpy()) # Save labels\n",
        "        total += y.size(0)\n",
        "  acc = correct / total\n",
        "  return acc, all_predictions, all_labels\n",
        "\n",
        "for epoch in range(EPOCHS):\n",
        "  train_loss = train_model(SENT_MODEL, train_dataloader_imd)\n",
        "  validation_accuracy , predictions, labels= evaluate_model(SENT_MODEL, test_dataloader_imd)\n",
        "  print(f\"Epoch {epoch+1}, Train Loss: {train_loss:.4f}, Validation Accuracy: {validation_accuracy:.4f}\")"
      ],
      "metadata": {
        "id": "6Lm-IYgjYQdX",
        "colab": {
          "base_uri": "https://localhost:8080/"
        },
        "outputId": "e94f4af0-8cdd-45f6-cffe-85be0b238ad6"
      },
      "execution_count": null,
      "outputs": [
        {
          "output_type": "stream",
          "name": "stderr",
          "text": [
            "Training: 100%|██████████| 157/157 [02:28<00:00,  1.06it/s]\n",
            "Validation: 100%|██████████| 32/32 [00:05<00:00,  5.74it/s]\n"
          ]
        },
        {
          "output_type": "stream",
          "name": "stdout",
          "text": [
            "Epoch 1, Train Loss: 0.6220, Validation Accuracy: 0.6900\n"
          ]
        },
        {
          "output_type": "stream",
          "name": "stderr",
          "text": [
            "Training: 100%|██████████| 157/157 [02:28<00:00,  1.06it/s]\n",
            "Validation: 100%|██████████| 32/32 [00:05<00:00,  5.80it/s]\n"
          ]
        },
        {
          "output_type": "stream",
          "name": "stdout",
          "text": [
            "Epoch 2, Train Loss: 0.5369, Validation Accuracy: 0.7170\n"
          ]
        },
        {
          "output_type": "stream",
          "name": "stderr",
          "text": [
            "Training: 100%|██████████| 157/157 [02:28<00:00,  1.06it/s]\n",
            "Validation: 100%|██████████| 32/32 [00:05<00:00,  5.70it/s]\n"
          ]
        },
        {
          "output_type": "stream",
          "name": "stdout",
          "text": [
            "Epoch 3, Train Loss: 0.5168, Validation Accuracy: 0.7605\n"
          ]
        },
        {
          "output_type": "stream",
          "name": "stderr",
          "text": [
            "Training: 100%|██████████| 157/157 [02:28<00:00,  1.06it/s]\n",
            "Validation: 100%|██████████| 32/32 [00:05<00:00,  5.78it/s]\n"
          ]
        },
        {
          "output_type": "stream",
          "name": "stdout",
          "text": [
            "Epoch 4, Train Loss: 0.5028, Validation Accuracy: 0.7585\n"
          ]
        },
        {
          "output_type": "stream",
          "name": "stderr",
          "text": [
            "Training: 100%|██████████| 157/157 [02:29<00:00,  1.05it/s]\n",
            "Validation: 100%|██████████| 32/32 [00:05<00:00,  5.78it/s]"
          ]
        },
        {
          "output_type": "stream",
          "name": "stdout",
          "text": [
            "Epoch 5, Train Loss: 0.4919, Validation Accuracy: 0.7555\n"
          ]
        },
        {
          "output_type": "stream",
          "name": "stderr",
          "text": [
            "\n"
          ]
        }
      ]
    },
    {
      "cell_type": "markdown",
      "source": [
        "Calculate precision, recall and F-measure of our Sentiment Analysis model. Also plot Confusion Matrix"
      ],
      "metadata": {
        "id": "v4bKgugqAtuW"
      }
    },
    {
      "cell_type": "code",
      "source": [
        "from sklearn.metrics import confusion_matrix, ConfusionMatrixDisplay, precision_score, recall_score, f1_score\n",
        "import matplotlib.pyplot as plt\n",
        "import numpy as np\n",
        "\n",
        "# You have already a np.array of labels and predictions\n",
        "\n",
        "#TODO calculate precision, recall and F1 measure and print Confusion Matrix\n",
        "\n",
        "# Calculate precision, recall, and F1 measure\n",
        "precision = precision_score(labels, predictions, average='weighted')\n",
        "recall = recall_score(labels, predictions, average='weighted')\n",
        "f1 = f1_score(labels, predictions, average='weighted')\n",
        "\n",
        "print(f\"Precision: {precision:.4f}\")\n",
        "print(f\"Recall: {recall:.4f}\")\n",
        "print(f\"F1 Measure: {f1:.4f}\")\n",
        "\n",
        "# Calculate and plot the confusion matrix\n",
        "cm = confusion_matrix(labels, predictions)\n",
        "disp = ConfusionMatrixDisplay(confusion_matrix=cm)\n",
        "disp.plot()\n",
        "plt.title('Confusion Matrix')\n",
        "plt.show()"
      ],
      "metadata": {
        "id": "DbCx4unQfSHP",
        "colab": {
          "base_uri": "https://localhost:8080/",
          "height": 524
        },
        "outputId": "3cdfbed7-60fd-4e00-f0da-1c8e3a3f3c78"
      },
      "execution_count": null,
      "outputs": [
        {
          "output_type": "stream",
          "name": "stdout",
          "text": [
            "Precision: 0.7628\n",
            "Recall: 0.7555\n",
            "F1 Measure: 0.7550\n"
          ]
        },
        {
          "output_type": "display_data",
          "data": {
            "text/plain": [
              "<Figure size 640x480 with 2 Axes>"
            ],
            "image/png": "[encoded data removed]"
          },
          "metadata": {}
        }
      ]
    },
    {
      "cell_type": "markdown",
      "source": [
        "# Let's Experiment! 🤓\n",
        "\n",
        "Pick 3 of the following experiments and develop a solution **in this same notebook**. Take advange of the notebook structure to give a clear structure of experiment -> conclusions\n",
        "\n",
        "1. Compare with another pretrained word2vec model\n",
        "2. Experiment with a different sentiment analysis dataset (might require change in architecture of sentiment analyser)\n",
        "3. Train your CBOW model on a different train set (might require data preprocessing)\n",
        "4. Play with hyperparameters (window size, embedding dimension)\n"
      ],
      "metadata": {
        "id": "8069Ltpe6sQc"
      }
    }
  ]
}